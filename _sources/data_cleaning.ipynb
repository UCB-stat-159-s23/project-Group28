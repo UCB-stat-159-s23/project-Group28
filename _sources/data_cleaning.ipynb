{
 "cells": [
  {
   "cell_type": "markdown",
   "id": "2713953f-cc8a-4aaa-845d-8a3231c0d04a",
   "metadata": {
    "user_expressions": []
   },
   "source": [
    "# Data Preprocessing"
   ]
  },
  {
   "cell_type": "code",
   "execution_count": 1,
   "id": "ca838dc6-3673-429a-8189-8414dd011b8c",
   "metadata": {},
   "outputs": [],
   "source": [
    "import pandas as pd\n",
    "import matplotlib.pyplot as plt\n",
    "import seaborn as sns"
   ]
  },
  {
   "cell_type": "code",
   "execution_count": 2,
   "id": "63af9c7e-03ce-4b79-a85c-367288c4a50b",
   "metadata": {},
   "outputs": [],
   "source": [
    "df = pd.read_csv('data/Aemf1.csv')"
   ]
  },
  {
   "cell_type": "code",
   "execution_count": 3,
   "id": "b39929a7-378a-4587-a5f8-1cbe0503888a",
   "metadata": {},
   "outputs": [
    {
     "data": {
      "text/html": [
       "<div>\n",
       "<style scoped>\n",
       "    .dataframe tbody tr th:only-of-type {\n",
       "        vertical-align: middle;\n",
       "    }\n",
       "\n",
       "    .dataframe tbody tr th {\n",
       "        vertical-align: top;\n",
       "    }\n",
       "\n",
       "    .dataframe thead th {\n",
       "        text-align: right;\n",
       "    }\n",
       "</style>\n",
       "<table border=\"1\" class=\"dataframe\">\n",
       "  <thead>\n",
       "    <tr style=\"text-align: right;\">\n",
       "      <th></th>\n",
       "      <th>City</th>\n",
       "      <th>Price</th>\n",
       "      <th>Day</th>\n",
       "      <th>Room Type</th>\n",
       "      <th>Shared Room</th>\n",
       "      <th>Private Room</th>\n",
       "      <th>Person Capacity</th>\n",
       "      <th>Superhost</th>\n",
       "      <th>Multiple Rooms</th>\n",
       "      <th>Business</th>\n",
       "      <th>Cleanliness Rating</th>\n",
       "      <th>Guest Satisfaction</th>\n",
       "      <th>Bedrooms</th>\n",
       "      <th>City Center (km)</th>\n",
       "      <th>Metro Distance (km)</th>\n",
       "      <th>Attraction Index</th>\n",
       "      <th>Normalised Attraction Index</th>\n",
       "      <th>Restraunt Index</th>\n",
       "      <th>Normalised Restraunt Index</th>\n",
       "    </tr>\n",
       "  </thead>\n",
       "  <tbody>\n",
       "    <tr>\n",
       "      <th>0</th>\n",
       "      <td>Amsterdam</td>\n",
       "      <td>194.033698</td>\n",
       "      <td>Weekday</td>\n",
       "      <td>Private room</td>\n",
       "      <td>False</td>\n",
       "      <td>True</td>\n",
       "      <td>2.0</td>\n",
       "      <td>False</td>\n",
       "      <td>1</td>\n",
       "      <td>0</td>\n",
       "      <td>10.0</td>\n",
       "      <td>93.0</td>\n",
       "      <td>1</td>\n",
       "      <td>5.022964</td>\n",
       "      <td>2.539380</td>\n",
       "      <td>78.690379</td>\n",
       "      <td>4.166708</td>\n",
       "      <td>98.253896</td>\n",
       "      <td>6.846473</td>\n",
       "    </tr>\n",
       "    <tr>\n",
       "      <th>1</th>\n",
       "      <td>Amsterdam</td>\n",
       "      <td>344.245776</td>\n",
       "      <td>Weekday</td>\n",
       "      <td>Private room</td>\n",
       "      <td>False</td>\n",
       "      <td>True</td>\n",
       "      <td>4.0</td>\n",
       "      <td>False</td>\n",
       "      <td>0</td>\n",
       "      <td>0</td>\n",
       "      <td>8.0</td>\n",
       "      <td>85.0</td>\n",
       "      <td>1</td>\n",
       "      <td>0.488389</td>\n",
       "      <td>0.239404</td>\n",
       "      <td>631.176378</td>\n",
       "      <td>33.421209</td>\n",
       "      <td>837.280757</td>\n",
       "      <td>58.342928</td>\n",
       "    </tr>\n",
       "    <tr>\n",
       "      <th>2</th>\n",
       "      <td>Amsterdam</td>\n",
       "      <td>264.101422</td>\n",
       "      <td>Weekday</td>\n",
       "      <td>Private room</td>\n",
       "      <td>False</td>\n",
       "      <td>True</td>\n",
       "      <td>2.0</td>\n",
       "      <td>False</td>\n",
       "      <td>0</td>\n",
       "      <td>1</td>\n",
       "      <td>9.0</td>\n",
       "      <td>87.0</td>\n",
       "      <td>1</td>\n",
       "      <td>5.748312</td>\n",
       "      <td>3.651621</td>\n",
       "      <td>75.275877</td>\n",
       "      <td>3.985908</td>\n",
       "      <td>95.386955</td>\n",
       "      <td>6.646700</td>\n",
       "    </tr>\n",
       "    <tr>\n",
       "      <th>3</th>\n",
       "      <td>Amsterdam</td>\n",
       "      <td>433.529398</td>\n",
       "      <td>Weekday</td>\n",
       "      <td>Private room</td>\n",
       "      <td>False</td>\n",
       "      <td>True</td>\n",
       "      <td>4.0</td>\n",
       "      <td>False</td>\n",
       "      <td>0</td>\n",
       "      <td>1</td>\n",
       "      <td>9.0</td>\n",
       "      <td>90.0</td>\n",
       "      <td>2</td>\n",
       "      <td>0.384862</td>\n",
       "      <td>0.439876</td>\n",
       "      <td>493.272534</td>\n",
       "      <td>26.119108</td>\n",
       "      <td>875.033098</td>\n",
       "      <td>60.973565</td>\n",
       "    </tr>\n",
       "    <tr>\n",
       "      <th>4</th>\n",
       "      <td>Amsterdam</td>\n",
       "      <td>485.552926</td>\n",
       "      <td>Weekday</td>\n",
       "      <td>Private room</td>\n",
       "      <td>False</td>\n",
       "      <td>True</td>\n",
       "      <td>2.0</td>\n",
       "      <td>True</td>\n",
       "      <td>0</td>\n",
       "      <td>0</td>\n",
       "      <td>10.0</td>\n",
       "      <td>98.0</td>\n",
       "      <td>1</td>\n",
       "      <td>0.544738</td>\n",
       "      <td>0.318693</td>\n",
       "      <td>552.830324</td>\n",
       "      <td>29.272733</td>\n",
       "      <td>815.305740</td>\n",
       "      <td>56.811677</td>\n",
       "    </tr>\n",
       "    <tr>\n",
       "      <th>5</th>\n",
       "      <td>Amsterdam</td>\n",
       "      <td>552.808567</td>\n",
       "      <td>Weekday</td>\n",
       "      <td>Private room</td>\n",
       "      <td>False</td>\n",
       "      <td>True</td>\n",
       "      <td>3.0</td>\n",
       "      <td>False</td>\n",
       "      <td>0</td>\n",
       "      <td>0</td>\n",
       "      <td>8.0</td>\n",
       "      <td>100.0</td>\n",
       "      <td>2</td>\n",
       "      <td>2.131420</td>\n",
       "      <td>1.904668</td>\n",
       "      <td>174.788957</td>\n",
       "      <td>9.255191</td>\n",
       "      <td>225.201662</td>\n",
       "      <td>15.692376</td>\n",
       "    </tr>\n",
       "    <tr>\n",
       "      <th>6</th>\n",
       "      <td>Amsterdam</td>\n",
       "      <td>215.124317</td>\n",
       "      <td>Weekday</td>\n",
       "      <td>Private room</td>\n",
       "      <td>False</td>\n",
       "      <td>True</td>\n",
       "      <td>2.0</td>\n",
       "      <td>False</td>\n",
       "      <td>0</td>\n",
       "      <td>0</td>\n",
       "      <td>10.0</td>\n",
       "      <td>94.0</td>\n",
       "      <td>1</td>\n",
       "      <td>1.881092</td>\n",
       "      <td>0.729747</td>\n",
       "      <td>200.167652</td>\n",
       "      <td>10.599010</td>\n",
       "      <td>242.765524</td>\n",
       "      <td>16.916251</td>\n",
       "    </tr>\n",
       "    <tr>\n",
       "      <th>7</th>\n",
       "      <td>Amsterdam</td>\n",
       "      <td>2771.307384</td>\n",
       "      <td>Weekday</td>\n",
       "      <td>Entire home/apt</td>\n",
       "      <td>False</td>\n",
       "      <td>False</td>\n",
       "      <td>4.0</td>\n",
       "      <td>True</td>\n",
       "      <td>0</td>\n",
       "      <td>0</td>\n",
       "      <td>10.0</td>\n",
       "      <td>100.0</td>\n",
       "      <td>3</td>\n",
       "      <td>1.686807</td>\n",
       "      <td>1.458404</td>\n",
       "      <td>208.808109</td>\n",
       "      <td>11.056528</td>\n",
       "      <td>272.313823</td>\n",
       "      <td>18.975219</td>\n",
       "    </tr>\n",
       "    <tr>\n",
       "      <th>8</th>\n",
       "      <td>Amsterdam</td>\n",
       "      <td>1001.804420</td>\n",
       "      <td>Weekday</td>\n",
       "      <td>Entire home/apt</td>\n",
       "      <td>False</td>\n",
       "      <td>False</td>\n",
       "      <td>4.0</td>\n",
       "      <td>False</td>\n",
       "      <td>0</td>\n",
       "      <td>0</td>\n",
       "      <td>9.0</td>\n",
       "      <td>96.0</td>\n",
       "      <td>2</td>\n",
       "      <td>3.719141</td>\n",
       "      <td>1.196112</td>\n",
       "      <td>106.226456</td>\n",
       "      <td>5.624761</td>\n",
       "      <td>133.876202</td>\n",
       "      <td>9.328686</td>\n",
       "    </tr>\n",
       "    <tr>\n",
       "      <th>9</th>\n",
       "      <td>Amsterdam</td>\n",
       "      <td>276.521454</td>\n",
       "      <td>Weekday</td>\n",
       "      <td>Private room</td>\n",
       "      <td>False</td>\n",
       "      <td>True</td>\n",
       "      <td>2.0</td>\n",
       "      <td>False</td>\n",
       "      <td>1</td>\n",
       "      <td>0</td>\n",
       "      <td>10.0</td>\n",
       "      <td>88.0</td>\n",
       "      <td>1</td>\n",
       "      <td>3.142361</td>\n",
       "      <td>0.924404</td>\n",
       "      <td>206.252862</td>\n",
       "      <td>10.921226</td>\n",
       "      <td>238.291258</td>\n",
       "      <td>16.604478</td>\n",
       "    </tr>\n",
       "  </tbody>\n",
       "</table>\n",
       "</div>"
      ],
      "text/plain": [
       "        City        Price      Day        Room Type  Shared Room  \\\n",
       "0  Amsterdam   194.033698  Weekday     Private room        False   \n",
       "1  Amsterdam   344.245776  Weekday     Private room        False   \n",
       "2  Amsterdam   264.101422  Weekday     Private room        False   \n",
       "3  Amsterdam   433.529398  Weekday     Private room        False   \n",
       "4  Amsterdam   485.552926  Weekday     Private room        False   \n",
       "5  Amsterdam   552.808567  Weekday     Private room        False   \n",
       "6  Amsterdam   215.124317  Weekday     Private room        False   \n",
       "7  Amsterdam  2771.307384  Weekday  Entire home/apt        False   \n",
       "8  Amsterdam  1001.804420  Weekday  Entire home/apt        False   \n",
       "9  Amsterdam   276.521454  Weekday     Private room        False   \n",
       "\n",
       "   Private Room  Person Capacity  Superhost  Multiple Rooms  Business  \\\n",
       "0          True              2.0      False               1         0   \n",
       "1          True              4.0      False               0         0   \n",
       "2          True              2.0      False               0         1   \n",
       "3          True              4.0      False               0         1   \n",
       "4          True              2.0       True               0         0   \n",
       "5          True              3.0      False               0         0   \n",
       "6          True              2.0      False               0         0   \n",
       "7         False              4.0       True               0         0   \n",
       "8         False              4.0      False               0         0   \n",
       "9          True              2.0      False               1         0   \n",
       "\n",
       "   Cleanliness Rating  Guest Satisfaction  Bedrooms  City Center (km)  \\\n",
       "0                10.0                93.0         1          5.022964   \n",
       "1                 8.0                85.0         1          0.488389   \n",
       "2                 9.0                87.0         1          5.748312   \n",
       "3                 9.0                90.0         2          0.384862   \n",
       "4                10.0                98.0         1          0.544738   \n",
       "5                 8.0               100.0         2          2.131420   \n",
       "6                10.0                94.0         1          1.881092   \n",
       "7                10.0               100.0         3          1.686807   \n",
       "8                 9.0                96.0         2          3.719141   \n",
       "9                10.0                88.0         1          3.142361   \n",
       "\n",
       "   Metro Distance (km)  Attraction Index  Normalised Attraction Index  \\\n",
       "0             2.539380         78.690379                     4.166708   \n",
       "1             0.239404        631.176378                    33.421209   \n",
       "2             3.651621         75.275877                     3.985908   \n",
       "3             0.439876        493.272534                    26.119108   \n",
       "4             0.318693        552.830324                    29.272733   \n",
       "5             1.904668        174.788957                     9.255191   \n",
       "6             0.729747        200.167652                    10.599010   \n",
       "7             1.458404        208.808109                    11.056528   \n",
       "8             1.196112        106.226456                     5.624761   \n",
       "9             0.924404        206.252862                    10.921226   \n",
       "\n",
       "   Restraunt Index  Normalised Restraunt Index  \n",
       "0        98.253896                    6.846473  \n",
       "1       837.280757                   58.342928  \n",
       "2        95.386955                    6.646700  \n",
       "3       875.033098                   60.973565  \n",
       "4       815.305740                   56.811677  \n",
       "5       225.201662                   15.692376  \n",
       "6       242.765524                   16.916251  \n",
       "7       272.313823                   18.975219  \n",
       "8       133.876202                    9.328686  \n",
       "9       238.291258                   16.604478  "
      ]
     },
     "execution_count": 3,
     "metadata": {},
     "output_type": "execute_result"
    }
   ],
   "source": [
    "df.head(10) "
   ]
  },
  {
   "cell_type": "markdown",
   "id": "26afe438-96d3-444a-b112-452344b08d44",
   "metadata": {
    "user_expressions": []
   },
   "source": [
    "## Check NAs"
   ]
  },
  {
   "cell_type": "code",
   "execution_count": 4,
   "id": "68de6af6-4782-4b09-82fd-8482eced8871",
   "metadata": {},
   "outputs": [
    {
     "data": {
      "text/plain": [
       "City                           0\n",
       "Price                          0\n",
       "Day                            0\n",
       "Room Type                      0\n",
       "Shared Room                    0\n",
       "Private Room                   0\n",
       "Person Capacity                0\n",
       "Superhost                      0\n",
       "Multiple Rooms                 0\n",
       "Business                       0\n",
       "Cleanliness Rating             0\n",
       "Guest Satisfaction             0\n",
       "Bedrooms                       0\n",
       "City Center (km)               0\n",
       "Metro Distance (km)            0\n",
       "Attraction Index               0\n",
       "Normalised Attraction Index    0\n",
       "Restraunt Index                0\n",
       "Normalised Restraunt Index     0\n",
       "dtype: int64"
      ]
     },
     "execution_count": 4,
     "metadata": {},
     "output_type": "execute_result"
    }
   ],
   "source": [
    "df.isna().sum()"
   ]
  },
  {
   "cell_type": "markdown",
   "id": "a6d761c1-ea71-4787-836f-febc62514a0a",
   "metadata": {
    "user_expressions": []
   },
   "source": [
    "The dataset we are working with is a cleaned Europe dataset that doesn't have any missing data (NA values). However, we should still check for any potential outliers that could affect our model's performance.\n",
    "\n",
    "First, let's plot a histogram to show the frequency distribution of the prices:"
   ]
  },
  {
   "cell_type": "code",
   "execution_count": 5,
   "id": "74943200-f525-4e5c-a9ac-158e57376f5b",
   "metadata": {},
   "outputs": [
    {
     "data": {
      "image/png": "[encoded data removed]",
      "text/plain": [
       "<Figure size 800x600 with 1 Axes>"
      ]
     },
     "metadata": {},
     "output_type": "display_data"
    }
   ],
   "source": [
    "# Histogram for price distribution\n",
    "plt.figure(figsize=(8, 6))\n",
    "sns.histplot(df['Price'], kde=True)\n",
    "plt.title('Price Distribution')\n",
    "plt.xlabel('Price')\n",
    "plt.ylabel('Frequency')\n",
    "plt.savefig('figures/price_distribution_before.png', dpi=300, bbox_inches='tight')\n",
    "plt.show()"
   ]
  },
  {
   "cell_type": "markdown",
   "id": "c3139c51-e4fa-4dd8-8e3d-29a6d94c5069",
   "metadata": {
    "user_expressions": []
   },
   "source": [
    "## Remove the outliers"
   ]
  },
  {
   "cell_type": "markdown",
   "id": "e026202f-c404-4a55-98e6-b9f905a6335a",
   "metadata": {
    "user_expressions": []
   },
   "source": [
    "From the histogram, we can observe that there seem to be outliers in the price distribution. To address this issue, we will remove the outliers based on the Interquartile Range (IQR) method. Here's the code to perform this operation:"
   ]
  },
  {
   "cell_type": "code",
   "execution_count": 6,
   "id": "2bc2619c-643a-46ab-953b-d122fbb8ecc3",
   "metadata": {},
   "outputs": [
    {
     "name": "stdout",
     "output_type": "stream",
     "text": [
      "count    41714.000000\n",
      "mean       260.094423\n",
      "std        279.408493\n",
      "min         34.779339\n",
      "25%        144.016085\n",
      "50%        203.819274\n",
      "75%        297.373358\n",
      "max      18545.450285\n",
      "Name: Price, dtype: float64\n"
     ]
    }
   ],
   "source": [
    "price_summary = df['Price'].describe()\n",
    "print(price_summary)\n",
    "price_summary.to_csv('results/price_summary.csv')"
   ]
  },
  {
   "cell_type": "markdown",
   "id": "4eec60a8-8c2d-4929-b65c-5ae191e4e5da",
   "metadata": {
    "user_expressions": []
   },
   "source": [
    "After removing the outliers, we will save the filtered dataset to a filtered CSV file:"
   ]
  },
  {
   "cell_type": "code",
   "execution_count": 7,
   "id": "76921f66-65dd-4b5c-8a75-6a816234a112",
   "metadata": {},
   "outputs": [
    {
     "name": "stdout",
     "output_type": "stream",
     "text": [
      "(39365, 19)\n",
      "-132.02700727067884\n",
      "573.4164505330268\n"
     ]
    }
   ],
   "source": [
    "# Remove outliers based on Price\n",
    "Q1 = df['Price'].quantile(0.25)\n",
    "Q3 = df['Price'].quantile(0.75)\n",
    "IQR = Q3 - Q1\n",
    "lower_bound = Q1 - 1.8 * IQR\n",
    "upper_bound = Q3 + 1.8 * IQR\n",
    "\n",
    "# Filter out the outliers\n",
    "filtered_data = df[(df['Price'] >= lower_bound) & (df['Price'] <= upper_bound)]\n",
    "filtered_data.to_csv('data/filtered_data.csv', index=False)\n",
    "print(filtered_data.shape)\n",
    "print(lower_bound)\n",
    "print(upper_bound)"
   ]
  },
  {
   "cell_type": "code",
   "execution_count": 8,
   "id": "4757a35f-8e27-4ce7-bc5e-0a7ebcb04658",
   "metadata": {},
   "outputs": [
    {
     "data": {
      "image/png": "[encoded data removed]",
      "text/plain": [
       "<Figure size 800x600 with 1 Axes>"
      ]
     },
     "metadata": {},
     "output_type": "display_data"
    }
   ],
   "source": [
    "# Histogram for price distribution\n",
    "plt.figure(figsize=(8, 6))\n",
    "sns.histplot(filtered_data['Price'], kde=True)\n",
    "plt.title('Price Distribution')\n",
    "plt.xlabel('Price')\n",
    "plt.ylabel('Frequency')\n",
    "plt.savefig('figures/price_distribution.png', dpi=300, bbox_inches='tight')\n",
    "plt.show()"
   ]
  }
 ],
 "metadata": {
  "kernelspec": {
   "display_name": "Python 3 (ipykernel)",
   "language": "python",
   "name": "python3"
  },
  "language_info": {
   "codemirror_mode": {
    "name": "ipython",
    "version": 3
   },
   "file_extension": ".py",
   "mimetype": "text/x-python",
   "name": "python",
   "nbconvert_exporter": "python",
   "pygments_lexer": "ipython3",
   "version": "3.10.8"
  }
 },
 "nbformat": 4,
 "nbformat_minor": 5
}
