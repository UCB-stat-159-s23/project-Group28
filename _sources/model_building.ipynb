{
 "cells": [
  {
   "cell_type": "markdown",
   "id": "d9f92890-0ee7-49fb-9c3c-5cf52eb40a5f",
   "metadata": {
    "user_expressions": []
   },
   "source": [
    "# Model Building and Evaluation"
   ]
  },
  {
   "cell_type": "markdown",
   "id": "3f8befc8-0a59-44d3-9a34-683b7b63f349",
   "metadata": {
    "user_expressions": []
   },
   "source": [
    "## Import the packages"
   ]
  },
  {
   "cell_type": "code",
   "execution_count": 1,
   "id": "7ba489ab-559e-42b8-b2ba-d7450026a474",
   "metadata": {},
   "outputs": [],
   "source": [
    "import pandas as pd\n",
    "import numpy as np\n",
    "from sklearn.ensemble import RandomForestRegressor\n",
    "from sklearn.preprocessing import StandardScaler, OneHotEncoder\n",
    "from sklearn.compose import ColumnTransformer\n",
    "from sklearn.pipeline import Pipeline\n",
    "from sklearn.model_selection import train_test_split, GridSearchCV\n",
    "from sklearn.impute import SimpleImputer, KNNImputer\n",
    "from sklearn.linear_model import Lasso, Ridge\n",
    "from sklearn.metrics import mean_squared_error, mean_absolute_error\n",
    "import copy\n",
    "import matplotlib.pyplot as plt"
   ]
  },
  {
   "cell_type": "code",
   "execution_count": 2,
   "id": "506a5457-a7b0-4a73-b5ed-63b61ba2e77c",
   "metadata": {},
   "outputs": [],
   "source": [
    "import importlib\n",
    "import utils.pipeline_utils\n",
    "importlib.reload(utils.pipeline_utils)\n",
    "\n",
    "from utils.pipeline_utils import (\n",
    "    create_pipelines, \n",
    "    create_summary,\n",
    "    calculate_metrics, \n",
    "    display_results\n",
    ")\n"
   ]
  },
  {
   "cell_type": "markdown",
   "id": "1b9436cd-50a1-4782-83f3-57a5cae9cfb2",
   "metadata": {
    "user_expressions": []
   },
   "source": [
    "## Load the data"
   ]
  },
  {
   "cell_type": "code",
   "execution_count": 3,
   "id": "f61a33ad-e12b-49a8-b3b4-c86bd478c4e6",
   "metadata": {},
   "outputs": [
    {
     "data": {
      "text/plain": [
       "Index(['City', 'Price', 'Day', 'Room Type', 'Shared Room', 'Private Room',\n",
       "       'Person Capacity', 'Superhost', 'Multiple Rooms', 'Business',\n",
       "       'Cleanliness Rating', 'Guest Satisfaction', 'Bedrooms',\n",
       "       'City Center (km)', 'Metro Distance (km)', 'Attraction Index',\n",
       "       'Normalised Attraction Index', 'Restraunt Index',\n",
       "       'Normalised Restraunt Index'],\n",
       "      dtype='object')"
      ]
     },
     "execution_count": 3,
     "metadata": {},
     "output_type": "execute_result"
    }
   ],
   "source": [
    "filtered_data = pd.read_csv('data/filtered_data.csv')\n",
    "filtered_data.columns"
   ]
  },
  {
   "cell_type": "markdown",
   "id": "557aa5e9-dcc0-44db-9b7f-cb25773bfc49",
   "metadata": {
    "user_expressions": []
   },
   "source": [
    "## One-hot encoding for categorical features"
   ]
  },
  {
   "cell_type": "code",
   "execution_count": 4,
   "id": "1453e3b4-2e90-4655-91cb-6c4700a4b183",
   "metadata": {},
   "outputs": [
    {
     "name": "stderr",
     "output_type": "stream",
     "text": [
      "/srv/conda/envs/aemf/lib/python3.10/site-packages/sklearn/preprocessing/_encoders.py:868: FutureWarning: `sparse` was renamed to `sparse_output` in version 1.2 and will be removed in 1.4. `sparse_output` is ignored unless you leave `sparse` to its default value.\n",
      "  warnings.warn(\n"
     ]
    }
   ],
   "source": [
    "cat_features = ['City', 'Day', 'Room Type']\n",
    "enc = OneHotEncoder(sparse=False, drop='first')\n",
    "encoded_features = enc.fit_transform(filtered_data[cat_features])\n",
    "encoded_features_df = pd.DataFrame(encoded_features, columns=enc.get_feature_names_out(cat_features))\n",
    "\n",
    "# Drop original categorical columns and append encoded features\n",
    "filtered_data = filtered_data.drop(cat_features, axis=1)\n",
    "filtered_data = pd.concat([filtered_data, encoded_features_df], axis=1)\n",
    "\n",
    "# Define X and y\n",
    "X = filtered_data.drop('Price', axis=1)\n",
    "y = filtered_data['Price']\n",
    "\n",
    "# Continue with your existing code from here for splitting data, creating pipelines, and running models\n"
   ]
  },
  {
   "cell_type": "markdown",
   "id": "03f5f3ae-1bc8-4ad9-848e-ecd4071f1983",
   "metadata": {
    "user_expressions": []
   },
   "source": [
    "## Split the data"
   ]
  },
  {
   "cell_type": "markdown",
   "id": "e20b0f07-59f8-4cf0-b062-2bf9d069534f",
   "metadata": {
    "user_expressions": []
   },
   "source": [
    "We split the data into training, validation, and test sets, with 80% of the data for training and 20% for testing. We further split the training data into an 80-20 split for training and validation."
   ]
  },
  {
   "cell_type": "code",
   "execution_count": 5,
   "id": "e6f3c8a4-b69f-4465-86eb-30cf6a2e7f66",
   "metadata": {},
   "outputs": [
    {
     "data": {
      "text/plain": [
       "((25248, 26), (25248,), (6312, 26), (6312,), (7891, 26), (7891,))"
      ]
     },
     "execution_count": 5,
     "metadata": {},
     "output_type": "execute_result"
    }
   ],
   "source": [
    "X_train, X_test, y_train, y_test = train_test_split(X, y, test_size=0.2, random_state=1234)\n",
    "X_train, X_valid, y_train, y_valid = train_test_split(X_train, y_train, test_size=0.2, random_state=331)\n",
    "X_train.shape, y_train.shape, X_valid.shape, y_valid.shape, X_test.shape, y_test.shape"
   ]
  },
  {
   "cell_type": "markdown",
   "id": "287062b7-cfa5-4be0-8a17-ff8026c782cc",
   "metadata": {
    "user_expressions": []
   },
   "source": [
    "## Create pipelines and fit data"
   ]
  },
  {
   "cell_type": "markdown",
   "id": "2c8319e5-547b-463a-aa79-eaa7a90aff39",
   "metadata": {
    "user_expressions": []
   },
   "source": [
    "We defined two imputers, SimpleImputer and KNNImputer, and three models, RandomForestRegressor, Lasso, and Ridge. This resulted in a total of six combinations of imputers and models."
   ]
  },
  {
   "cell_type": "code",
   "execution_count": 6,
   "id": "5e09acd4-c7b9-4b9d-a50c-c4f5e3082421",
   "metadata": {},
   "outputs": [
    {
     "data": {
      "text/plain": [
       "{'simple_imputer+rf': Pipeline(steps=[('simple_imputer', SimpleImputer(strategy='most_frequent')),\n",
       "                 ('rf', RandomForestRegressor(min_samples_leaf=5))]),\n",
       " 'simple_imputer+lasso': Pipeline(steps=[('simple_imputer', SimpleImputer(strategy='most_frequent')),\n",
       "                 ('lasso', Lasso())]),\n",
       " 'simple_imputer+ridge': Pipeline(steps=[('simple_imputer', SimpleImputer(strategy='most_frequent')),\n",
       "                 ('ridge', Ridge())]),\n",
       " 'knn_imputer+rf': Pipeline(steps=[('knn_imputer', KNNImputer()),\n",
       "                 ('rf', RandomForestRegressor(min_samples_leaf=5))]),\n",
       " 'knn_imputer+lasso': Pipeline(steps=[('knn_imputer', KNNImputer()), ('lasso', Lasso())]),\n",
       " 'knn_imputer+ridge': Pipeline(steps=[('knn_imputer', KNNImputer()), ('ridge', Ridge())])}"
      ]
     },
     "execution_count": 6,
     "metadata": {},
     "output_type": "execute_result"
    }
   ],
   "source": [
    "pipes = create_pipelines()\n",
    "pipes"
   ]
  },
  {
   "cell_type": "markdown",
   "id": "4cd816e4-d4ba-49e5-b0e7-6140049ce18b",
   "metadata": {
    "user_expressions": []
   },
   "source": [
    "We created pipelines for each combination of imputer and model to streamline the preprocessing and modeling process. We fit each pipeline to the training data."
   ]
  },
  {
   "cell_type": "code",
   "execution_count": 7,
   "id": "cbe44dd8-17a6-408a-a488-c1b943759aa7",
   "metadata": {},
   "outputs": [],
   "source": [
    "for pipe_name, pipe in pipes.items():\n",
    "    pipe.fit(X_train, y_train)"
   ]
  },
  {
   "cell_type": "markdown",
   "id": "651f13d2-f5da-4ef8-9eb7-73217344432c",
   "metadata": {
    "user_expressions": []
   },
   "source": [
    "We defined a parameter grid for cross-validation, specifying the hyperparameters to be tuned for each model."
   ]
  },
  {
   "cell_type": "code",
   "execution_count": 8,
   "id": "dbf4b88d-48aa-4de4-b6d4-d741e2106dd8",
   "metadata": {},
   "outputs": [],
   "source": [
    "cv_param_grid_all = {\n",
    "    \"rf__min_samples_leaf\": [1, 3, 5, 10],\n",
    "    \"lasso__alpha\": np.logspace(-2, 2, 10),\n",
    "    \"knn_imputer__n_neighbors\": [2, 5, 10],\n",
    "    \"ridge__alpha\": np.logspace(-3, 7, 10)\n",
    "}"
   ]
  },
  {
   "cell_type": "markdown",
   "id": "5279ee7b-f417-4e32-a47e-5849af573fa8",
   "metadata": {
    "user_expressions": []
   },
   "source": [
    "For each pipeline, we performed a grid search with cross-validation to find the optimal hyperparameters. We stored the best-performing pipeline and calculated the validation score."
   ]
  },
  {
   "cell_type": "code",
   "execution_count": 9,
   "id": "c4b574c0-dc6a-47a7-b46b-8363910266b4",
   "metadata": {},
   "outputs": [],
   "source": [
    "valid_errs = {}\n",
    "tuned_pipelines = {}\n",
    "ypred_valid = {}\n",
    "\n",
    "for pipe_name, pipe in pipes.items():\n",
    "    cv_param_grid = {key: cv_param_grid_all[key] for key in cv_param_grid_all.keys() if key.startswith(tuple(pipe.named_steps.keys()))}\n",
    "    pipe_search = GridSearchCV(pipe, cv_param_grid)\n",
    "    pipe_search.fit(X_train, y_train)\n",
    "    valid_errs[pipe_name] = pipe_search.score(X_valid, y_valid)\n",
    "    tuned_pipelines[pipe_name] = copy.deepcopy(pipe_search)\n",
    "    ypred_valid[pipe_name] = pipe.predict(X_valid)"
   ]
  },
  {
   "cell_type": "markdown",
   "id": "9ee32114-03e7-4be1-a014-a83b471c5f0f",
   "metadata": {
    "user_expressions": []
   },
   "source": [
    "We calculated the mean squared error (MSE) and mean absolute error (MAE) for each pipeline to evaluate their performance on the validation set."
   ]
  },
  {
   "cell_type": "markdown",
   "id": "252c149b-d76d-4954-b97e-e27c700166b9",
   "metadata": {
    "user_expressions": []
   },
   "source": [
    "##  Results"
   ]
  },
  {
   "cell_type": "code",
   "execution_count": 10,
   "id": "9abe3328-8787-4c4c-9f5b-ddc93312d8be",
   "metadata": {},
   "outputs": [
    {
     "data": {
      "text/html": [
       "<div>\n",
       "<style scoped>\n",
       "    .dataframe tbody tr th:only-of-type {\n",
       "        vertical-align: middle;\n",
       "    }\n",
       "\n",
       "    .dataframe tbody tr th {\n",
       "        vertical-align: top;\n",
       "    }\n",
       "\n",
       "    .dataframe thead th {\n",
       "        text-align: right;\n",
       "    }\n",
       "</style>\n",
       "<table border=\"1\" class=\"dataframe\">\n",
       "  <thead>\n",
       "    <tr style=\"text-align: right;\">\n",
       "      <th></th>\n",
       "      <th>Valid Errors</th>\n",
       "      <th>MSE</th>\n",
       "      <th>MAE</th>\n",
       "    </tr>\n",
       "    <tr>\n",
       "      <th>Model</th>\n",
       "      <th></th>\n",
       "      <th></th>\n",
       "      <th></th>\n",
       "    </tr>\n",
       "  </thead>\n",
       "  <tbody>\n",
       "    <tr>\n",
       "      <th>simple_imputer+rf</th>\n",
       "      <td>0.748703</td>\n",
       "      <td>3510.601182</td>\n",
       "      <td>41.370089</td>\n",
       "    </tr>\n",
       "    <tr>\n",
       "      <th>simple_imputer+lasso</th>\n",
       "      <td>0.578790</td>\n",
       "      <td>6102.000292</td>\n",
       "      <td>57.295679</td>\n",
       "    </tr>\n",
       "    <tr>\n",
       "      <th>simple_imputer+ridge</th>\n",
       "      <td>0.578681</td>\n",
       "      <td>5051.988150</td>\n",
       "      <td>52.254937</td>\n",
       "    </tr>\n",
       "    <tr>\n",
       "      <th>knn_imputer+rf</th>\n",
       "      <td>0.748937</td>\n",
       "      <td>3510.601182</td>\n",
       "      <td>41.370089</td>\n",
       "    </tr>\n",
       "    <tr>\n",
       "      <th>knn_imputer+lasso</th>\n",
       "      <td>0.578790</td>\n",
       "      <td>6102.000292</td>\n",
       "      <td>57.295679</td>\n",
       "    </tr>\n",
       "    <tr>\n",
       "      <th>knn_imputer+ridge</th>\n",
       "      <td>0.578681</td>\n",
       "      <td>5051.988150</td>\n",
       "      <td>52.254937</td>\n",
       "    </tr>\n",
       "  </tbody>\n",
       "</table>\n",
       "</div>"
      ],
      "text/plain": [
       "                      Valid Errors          MSE        MAE\n",
       "Model                                                     \n",
       "simple_imputer+rf         0.748703  3510.601182  41.370089\n",
       "simple_imputer+lasso      0.578790  6102.000292  57.295679\n",
       "simple_imputer+ridge      0.578681  5051.988150  52.254937\n",
       "knn_imputer+rf            0.748937  3510.601182  41.370089\n",
       "knn_imputer+lasso         0.578790  6102.000292  57.295679\n",
       "knn_imputer+ridge         0.578681  5051.988150  52.254937"
      ]
     },
     "execution_count": 10,
     "metadata": {},
     "output_type": "execute_result"
    }
   ],
   "source": [
    "summary = create_summary(valid_errs, y_valid, ypred_valid)\n",
    "summary.to_csv('results/summary.csv')\n",
    "summary"
   ]
  },
  {
   "cell_type": "markdown",
   "id": "a6654e26-c979-48b4-b2f6-bdb8f24d009b",
   "metadata": {
    "user_expressions": []
   },
   "source": [
    "Based on the results, the best model seems to be knn_imputer+rf\t with the highest validation score (0.749541). We will use this model to make predictions on the test data and evaluate its performance using MSE and MAE."
   ]
  },
  {
   "cell_type": "markdown",
   "id": "8ebbc44f-669e-45c5-bb98-4cc251407292",
   "metadata": {
    "user_expressions": []
   },
   "source": [
    "## Test data use the best estimator"
   ]
  },
  {
   "cell_type": "code",
   "execution_count": 11,
   "id": "6858e473-4eaa-4935-93bc-09bdb608d7c0",
   "metadata": {},
   "outputs": [
    {
     "data": {
      "text/html": [
       "<div>\n",
       "<style scoped>\n",
       "    .dataframe tbody tr th:only-of-type {\n",
       "        vertical-align: middle;\n",
       "    }\n",
       "\n",
       "    .dataframe tbody tr th {\n",
       "        vertical-align: top;\n",
       "    }\n",
       "\n",
       "    .dataframe thead th {\n",
       "        text-align: right;\n",
       "    }\n",
       "</style>\n",
       "<table border=\"1\" class=\"dataframe\">\n",
       "  <thead>\n",
       "    <tr style=\"text-align: right;\">\n",
       "      <th></th>\n",
       "      <th>R-squared</th>\n",
       "      <th>MSE</th>\n",
       "      <th>MAE</th>\n",
       "    </tr>\n",
       "    <tr>\n",
       "      <th>Model</th>\n",
       "      <th></th>\n",
       "      <th></th>\n",
       "      <th></th>\n",
       "    </tr>\n",
       "  </thead>\n",
       "  <tbody>\n",
       "    <tr>\n",
       "      <th>knn_imputer+rf</th>\n",
       "      <td>0.741165</td>\n",
       "      <td>3001.33257</td>\n",
       "      <td>37.435389</td>\n",
       "    </tr>\n",
       "  </tbody>\n",
       "</table>\n",
       "</div>"
      ],
      "text/plain": [
       "                R-squared         MSE        MAE\n",
       "Model                                           \n",
       "knn_imputer+rf   0.741165  3001.33257  37.435389"
      ]
     },
     "execution_count": 11,
     "metadata": {},
     "output_type": "execute_result"
    }
   ],
   "source": [
    "best_model = tuned_pipelines['knn_imputer+rf']\n",
    "\n",
    "# Make predictions on the test data\n",
    "y_pred_test = best_model.predict(X_test)\n",
    "\n",
    "# Calculate evaluation metrics for test data\n",
    "test_mse, test_mae, test_r2 = calculate_metrics(y_test, y_pred_test)\n",
    "\n",
    "# Display the results in a table format\n",
    "results_df = display_results(test_mse, test_mae, test_r2)\n",
    "results_df.to_csv('results/results_df.csv')\n",
    "results_df"
   ]
  },
  {
   "cell_type": "code",
   "execution_count": 12,
   "id": "3caa5cef-c9bb-43ce-a4dd-c487563ae213",
   "metadata": {},
   "outputs": [
    {
     "data": {
      "image/png": "[encoded data removed]",
      "text/plain": [
       "<Figure size 1200x800 with 1 Axes>"
      ]
     },
     "metadata": {},
     "output_type": "display_data"
    }
   ],
   "source": [
    "# Extract the best estimator from GridSearchCV and get the Random Forest model\n",
    "best_rf_model = best_model.best_estimator_.named_steps['rf']\n",
    "\n",
    "# Extract the feature importances\n",
    "importances = best_rf_model.feature_importances_\n",
    "\n",
    "# Get the feature names from the preprocessed dataset\n",
    "feature_names = X_train.columns\n",
    "\n",
    "# Sort the importances in descending order and match them with the corresponding feature names\n",
    "sorted_indices = np.argsort(importances)[::-1]\n",
    "sorted_importances = importances[sorted_indices]\n",
    "sorted_feature_names = feature_names[sorted_indices]\n",
    "\n",
    "# Create the feature importance plot\n",
    "plt.figure(figsize=(12, 8))\n",
    "plt.barh(sorted_feature_names, sorted_importances, align='center')\n",
    "plt.xlabel('Feature Importance')\n",
    "plt.title('Feature Importance Plot for the Best Random Forest Model')\n",
    "plt.gca().invert_yaxis()  # Show the most important features at the top\n",
    "plt.savefig('figures/feature_importance_plot', bbox_inches='tight')\n",
    "plt.show()\n"
   ]
  }
 ],
 "metadata": {
  "kernelspec": {
   "display_name": "IPython - aemf",
   "language": "python",
   "name": "aemf"
  },
  "language_info": {
   "codemirror_mode": {
    "name": "ipython",
    "version": 3
   },
   "file_extension": ".py",
   "mimetype": "text/x-python",
   "name": "python",
   "nbconvert_exporter": "python",
   "pygments_lexer": "ipython3",
   "version": "3.10.8"
  }
 },
 "nbformat": 4,
 "nbformat_minor": 5
}
